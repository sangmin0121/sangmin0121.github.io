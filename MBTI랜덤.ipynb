{
  "nbformat": 4,
  "nbformat_minor": 0,
  "metadata": {
    "colab": {
      "name": "MBTI랜덤.ipynb",
      "provenance": [],
      "authorship_tag": "ABX9TyNsJ14EeQCDv9/XqGG4snIp",
      "include_colab_link": true
    },
    "kernelspec": {
      "name": "python3",
      "display_name": "Python 3"
    },
    "language_info": {
      "name": "python"
    }
  },
  "cells": [
    {
      "cell_type": "markdown",
      "metadata": {
        "id": "view-in-github",
        "colab_type": "text"
      },
      "source": [
        "<a href=\"https://colab.research.google.com/github/sangmin0121/sangmin0121.github.io/blob/master/MBTI%EB%9E%9C%EB%8D%A4.ipynb\" target=\"_parent\"><img src=\"https://colab.research.google.com/assets/colab-badge.svg\" alt=\"Open In Colab\"/></a>"
      ]
    },
    {
      "cell_type": "code",
      "metadata": {
        "colab": {
          "base_uri": "https://localhost:8080/"
        },
        "id": "ErtiTMrOw2tn",
        "outputId": "cc29968e-6601-46f5-cd9a-520bd544c0a8"
      },
      "source": [
        "#MBTI 빈도수\n",
        "\n",
        "import random\n",
        "\n",
        "def Mbti(k, seed=None):\n",
        "  random.seed(seed)\n",
        "  mbti_list = [\"\".join([c1,c2,c3,c4]) for c1 in (\"I\",\"E\") \\\n",
        "                                     for c2 in (\"S\",\"N\") \\\n",
        "                                     for c3 in (\"T\",\"F\") \\\n",
        "                                     for c4 in (\"J\",\"P\") ]\n",
        "  \n",
        "  return random.choices(mbti_list,k=k)\n",
        "\n",
        "def Mbti_freq(k,freq):\n",
        "  Mbti_list = Mbti(k, seed=123)\n",
        "  result = {}\n",
        "  for i in Mbti_list:\n",
        "    if i in result:\n",
        "      result[i] += 1\n",
        "    else:\n",
        "      result[i] = 1  \n",
        "  answer=()\n",
        "  for key, value in result.items():\n",
        "    if value > freq:  \n",
        "      answer += (key,value),\n",
        "  return answer\n",
        "\n",
        "print(Mbti_freq(100,10))\n",
        "       "
      ],
      "execution_count": null,
      "outputs": [
        {
          "output_type": "stream",
          "text": [
            "(('ISTP', 11), ('INTP', 12))\n"
          ],
          "name": "stdout"
        }
      ]
    }
  ]
}